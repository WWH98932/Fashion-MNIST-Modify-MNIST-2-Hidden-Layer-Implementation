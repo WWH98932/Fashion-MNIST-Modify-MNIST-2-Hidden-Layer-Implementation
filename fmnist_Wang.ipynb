{
 "cells": [
  {
   "cell_type": "markdown",
   "metadata": {},
   "source": [
    "\n",
    "## Implementation of MNIST Multilayer Perceptron Backpropgation Network\n",
    "A Multi-Layer Perceptron (MLP) is a Feedforward Artificial Neural Network (ANN) model that maps sets of input data onto a set of appropriate outputs with through one or more  layers of nodes in a directed graph with each layer fully connected to the next. MLP uses Backpropagation (BP) algorithm for training the network. \n",
    "\n",
    "If you have not done so yet, study the MNIST Single Layer Softmax Implementation.\n",
    "\n",
    "© Rashed Iqbal - 2018: All rights reservered.\n",
    "\n",
    "Edited by Minxuan Wang, 06/09/2018"
   ]
  },
  {
   "cell_type": "code",
   "execution_count": 2,
   "metadata": {},
   "outputs": [
    {
     "name": "stdout",
     "output_type": "stream",
     "text": [
      "Extracting data/fashion\\train-images-idx3-ubyte.gz\n",
      "Extracting data/fashion\\train-labels-idx1-ubyte.gz\n",
      "Extracting data/fashion\\t10k-images-idx3-ubyte.gz\n",
      "Extracting data/fashion\\t10k-labels-idx1-ubyte.gz\n"
     ]
    }
   ],
   "source": [
    "import matplotlib.pyplot as plt\n",
    "import tensorflow as tf\n",
    "\n",
    "from tensorflow.examples.tutorials.mnist import input_data as input_data\n",
    "fashion_mnist = input_data.read_data_sets('data/fashion', one_hot=True)"
   ]
  },
  {
   "cell_type": "code",
   "execution_count": 5,
   "metadata": {},
   "outputs": [
    {
     "data": {
      "image/png": "[encoded data removed]",
      "text/plain": [
       "<matplotlib.figure.Figure at 0x1a4a27437b8>"
      ]
     },
     "metadata": {},
     "output_type": "display_data"
    }
   ],
   "source": [
    "# Randomly show one of the images from the training dataset\n",
    "import random\n",
    "\n",
    "plt.figure(1, figsize=(3, 3))\n",
    "# Get 28x28 image\n",
    "sample_random = fashion_mnist.train.images[random.randint(0, 60000)].reshape(28,28)\n",
    "plt.imshow(sample_random, cmap=plt.cm.gray_r, interpolation='nearest')\n",
    "plt.show()"
   ]
  },
  {
   "cell_type": "markdown",
   "metadata": {},
   "source": [
    "## Model Parameters\n",
    "\n",
    "The following parameters are defined:\n",
    "\n",
    "**batchsize:** Training data is provided to the network in bataches. This parameter defines how many images are in a single batch.   \n",
    "\n",
    "**cycles:** This parameter defines number of training cycles the network will undergo.   \n",
    "\n",
    "**rate:** Learning rate is selected to ensure that the weights of the network converge to a response fast enough, without oscillations.\n",
    "\n",
    "Often time these parameters are selected based upon trial with the data set. As MNIST is one of the most popular networks, the following parameters are often used:  "
   ]
  },
  {
   "cell_type": "code",
   "execution_count": 3,
   "metadata": {},
   "outputs": [],
   "source": [
    "rate = 0.001\n",
    "cycles = 20\n",
    "batchsize = 50"
   ]
  },
  {
   "cell_type": "markdown",
   "metadata": {},
   "source": [
    "## Network Parameters\n",
    "<img src=\"2layermlp.gif\", style=\"width:230px;height:180px;\">\n",
    "This network (as shown in the figure) will have two hidden layers. Each layer consists of 256 neurons defined by parameters neuronslayer1 and neuronslayer2. Note that an MLP is a fully connected network in that each node in a layer connects to every node in the next layer via a weight. "
   ]
  },
  {
   "cell_type": "code",
   "execution_count": 4,
   "metadata": {
    "collapsed": true
   },
   "outputs": [],
   "source": [
    "neuronslayer1 = 256\n",
    "neuronslayer2 = 256 \n",
    "neuronslayer3 = 256 "
   ]
  },
  {
   "cell_type": "markdown",
   "metadata": {},
   "source": [
    "Next we define number of examples in the MNIST training set:"
   ]
  },
  {
   "cell_type": "code",
   "execution_count": 6,
   "metadata": {},
   "outputs": [],
   "source": [
    "numexpl = fashion_mnist.train.num_examples"
   ]
  },
  {
   "cell_type": "markdown",
   "metadata": {},
   "source": [
    "##  Graph Parameters\n",
    "\n",
    "Next we define placeholders for tensors for holding images and classes. Here specific values are not assigned to x and y. Instead, x is a placeholder for a 2-D tensor of floating point numbers (28 x 28 = 784), a value of which will be input when TensorFlow run a computation. Here None indicates that number of images (each consisting of flattened 784 values) could be any. Similarly, y is a placeholder for a 2-D tensor of floating point numbers for classes (there are ten of them: 01,2,...,9). \n"
   ]
  },
  {
   "cell_type": "code",
   "execution_count": 7,
   "metadata": {
    "collapsed": true
   },
   "outputs": [],
   "source": [
    "x = tf.placeholder(\"float\", [None, 784])\n",
    "y = tf.placeholder(\"float\", [None, 10])"
   ]
  },
  {
   "cell_type": "markdown",
   "metadata": {},
   "source": [
    "##  Model Bias and Weight Parameters\n",
    "\n",
    "Next we define and initialize biases and weights for this fully connected model. \n",
    "\n",
    "**Weights for Layer 1:** There will *neuronslayer1* number of neurons with the input image (of size 784 = 28 x 28) incident upon each of it. Therefore, there will be as many weights as there are neurons times size of the input image. \n",
    "\n",
    "**Weights for Layer 2:** As there are *neuronslayer1* number of inputs coming from layer 1 each going to layer 2, there will as many weights as there are neurons in layer 1 times neurons in layer 2. \n",
    "\n",
    "**Weights for the Ouput Layer:** As there are *neuronslayer2* number of inputs coming from layer 2 to 10 neurons (equal to number of classes), there will as 10 times neuronslayer2 as many weights for the output layer. \n",
    " \n",
    "**Biases:** On each layer (layer 1, layer 2, and output layer), there will be as many biases as there are neurons. So for layer 1 there will be neuronslayer1 biases, for layer 2 there will be neuronslayer2 biases, and for the output layer, there will be 10 biases. \n",
    "\n",
    "\n",
    "For implementation purposes, we will use: \n",
    "\n",
    "- TensorFlow Variable to create variable tensors that store weights and biases for each layer  \n",
    "- Tensorflow function tf.random_normal() to initialize weights  and biases with standard normal distribution \n",
    "- a (Python) dictionary w to store weights for layer 1, layer 2, and for the output layer\n",
    "- a (Python) dictionary b to store weights for layer 1, layer 2, and for the output layer"
   ]
  },
  {
   "cell_type": "code",
   "execution_count": 8,
   "metadata": {
    "collapsed": true
   },
   "outputs": [],
   "source": [
    "w = {\n",
    "    'layer1': tf.Variable(tf.random_normal([784, neuronslayer1])),\n",
    "    'layer2': tf.Variable(tf.random_normal([neuronslayer1, neuronslayer2])),\n",
    "    'layer3': tf.Variable(tf.random_normal([neuronslayer2, neuronslayer3])),\n",
    "    'layerop': tf.Variable(tf.random_normal([neuronslayer3, 10]))\n",
    "}\n",
    "\n",
    "b = {\n",
    "    'layer1': tf.Variable(tf.random_normal([neuronslayer1])),\n",
    "    'layer2': tf.Variable(tf.random_normal([neuronslayer2])),\n",
    "    'layer3': tf.Variable(tf.random_normal([neuronslayer3])),\n",
    "    'layerop': tf.Variable(tf.random_normal([10]))\n",
    "}"
   ]
  },
  {
   "cell_type": "markdown",
   "metadata": {},
   "source": [
    "## The MLP Model\n",
    "\n",
    "It can be proven mathematically that an MLP with linear activation function in all neurons (which essentially is a mapping to output via linear combination of inputs and weights) may be reduced to a simple 2-layer perceptron. Recall we proved this in one of the class videos earlier during the course. The MLP however is different in that some neurons (typically all neurons in one or more layers) use a nonlinear activation function. This nonlinear function models the firing process biological neurons in the brain. \n",
    "\n",
    "There are several functions that are used for the activation process in MLP:  \n",
    "\n",
    "- Hyberbolic Tangent\n",
    "- Rectifier Linear Unit (ReLU) \n",
    "- Softmax Function\n",
    "- Logistic Function (Logit)\n",
    "- Radial Basis Functions (RBF)\n",
    "\n",
    "We will use the ReLU in our MLP model. Known as a ramp function, for input *x*, ReLU often is defined as:\n",
    "\n",
    "*f* ( *x* ) = max ( 0 , *x* ) "
   ]
  },
  {
   "cell_type": "markdown",
   "metadata": {},
   "source": [
    "### A Digression into Activation Functions"
   ]
  },
  {
   "cell_type": "code",
   "execution_count": 9,
   "metadata": {},
   "outputs": [
    {
     "data": {
      "text/plain": [
       "[<matplotlib.lines.Line2D at 0x1a4a2ef3ba8>]"
      ]
     },
     "execution_count": 9,
     "metadata": {},
     "output_type": "execute_result"
    },
    {
     "data": {
      "image/png": "[encoded data removed]",
      "text/plain": [
       "<matplotlib.figure.Figure at 0x1a4a2e86f28>"
      ]
     },
     "metadata": {},
     "output_type": "display_data"
    }
   ],
   "source": [
    "def ReLU(xi):\n",
    "    retval = [0] * (len(xi))\n",
    "    for i in range(len(xi)):\n",
    "        if xi[i] > 0: retval[i] = xi[i]\n",
    "        else: retval[i] = 0\n",
    "    return retval\n",
    "\n",
    "def Softmax(xi):\n",
    "    retval = [0] * (len(xi))\n",
    "    for i in range(len(xi)):\n",
    "        retval[i] = math.log(1+math.exp(xi[i]))\n",
    "    return retval\n",
    "\n",
    "def Logit(xi):\n",
    "    retval = [0] * (len(xi))\n",
    "    for i in range(len(xi)):\n",
    "        retval[i] = 4*(1/(1+math.exp(-xi[i])))\n",
    "    return retval\n",
    "\n",
    "import math\n",
    "import numpy as np\n",
    "\n",
    "X = np.arange(-4,4,0.1)\n",
    "Y = ReLU(X)\n",
    "\n",
    "import matplotlib.pyplot as pt\n",
    "%matplotlib inline\n",
    "pt.axis([-4,4,-1,4])\n",
    "pt.xlabel('X')\n",
    "pt.ylabel('Y')\n",
    "pt.grid()\n",
    "pt.plot(X, Y, color='red', linestyle='solid', marker='o', \n",
    "        markerfacecolor='blue', markersize=2)\n",
    "Y = Softmax(X)\n",
    "pt.plot(X, Y, color='blue', linestyle='solid', marker='o', \n",
    "        markerfacecolor='red', markersize=2)\n",
    "Y = Logit(X)\n",
    "pt.plot(X, Y, color='yellow', linestyle='solid', marker='o', \n",
    "        markerfacecolor='green', markersize=2)"
   ]
  },
  {
   "cell_type": "markdown",
   "metadata": {},
   "source": [
    "## Model Equations\n",
    "\n",
    "The model will be governed by the following set of equations:\n",
    "\n",
    "<img src=\"neqn.png\", style=\"width:550px;height:266px;\">  \n",
    "\n",
    "These three functions map the input (a vector of size 784) to the output (a vector of 10 classes). \n"
   ]
  },
  {
   "cell_type": "markdown",
   "metadata": {},
   "source": [
    "## Model Implementation\n",
    "\n",
    "The implementation of the model consists of writing a function to implement the above equations and calling those equations with input x, weigths w, and biases b:"
   ]
  },
  {
   "cell_type": "code",
   "execution_count": 10,
   "metadata": {
    "collapsed": true
   },
   "outputs": [],
   "source": [
    "def mlp_bp(x, w, b):\n",
    "    oplayer1 = tf.nn.relu(tf.add(tf.matmul(x, w['layer1']), b['layer1']))\n",
    "    oplayer2 = tf.nn.relu(tf.add(tf.matmul(oplayer1, w['layer2']), b['layer2']))\n",
    "    oplayer3 = tf.nn.relu(tf.add(tf.matmul(oplayer2, w['layer3']), b['layer3']))\n",
    "    output  = tf.matmul(oplayer3, w['layerop']) + b['layerop']\n",
    "    return output"
   ]
  },
  {
   "cell_type": "code",
   "execution_count": 11,
   "metadata": {
    "collapsed": true
   },
   "outputs": [],
   "source": [
    "predictions = mlp_bp(x, w, b)"
   ]
  },
  {
   "cell_type": "markdown",
   "metadata": {},
   "source": [
    "## Cost and Optimization Functions\n",
    "\n",
    "We will use Cross-Entropy as we used for the MNIST Single Layer Softmax Implementation. The optimizer that we will use is Adaptive Moment Estimation (Adam) which is a modified form of Stochastic Gradient Descent method. \n",
    "\n",
    "Note that the varaible predictions (calculated by the function mlp_bp defined above) is fed to the cost function together with the output classes. "
   ]
  },
  {
   "cell_type": "code",
   "execution_count": 12,
   "metadata": {},
   "outputs": [],
   "source": [
    "cost = tf.reduce_mean(tf.nn.softmax_cross_entropy_with_logits(logits=predictions, labels=y))\n",
    "optimizer = tf.train.AdamOptimizer(learning_rate = rate).minimize(cost)"
   ]
  },
  {
   "cell_type": "markdown",
   "metadata": {},
   "source": [
    "## TensorFlow Session\n",
    "With the graph definition in place, we are ready to run the TensorFlow session through the following code:\n",
    "\n",
    "- The Tensorflow initializer tf.global.variables_initializer() is used to set the structure initialconditions\n",
    "- A Tensorflow session is defined\n",
    "- The TensorFlow session is started with the initial conditions structure (initial coditions) \n",
    "- Number of batches (numbatches) by dividing total examples available (numexpl) by example per batch (batchsize)\n",
    "- A list avgcost[] is created to store cost for all cycles (for later plotting)\n",
    "- Optimzation cycles are run. For each cycle, a variable cyclecost is initilaized to zero to accumulate cost from all batches during the cycle runs. Message is pritned that the cycle is being run. \n",
    "- For each batch (for a total of numbatches) in the cycle:    \n",
    "    * xbatch and ybatch are extracted from the batch\n",
    "    * optimizer and cost operations are run to determine cost for this batch run \n",
    "    * batchcost is accumulated in cyclecost variable \n",
    "- For the cycle average cost is calculated by dividing cycle cost by number of batches (numbataches) and put in the list for later printing.\n",
    "- Cycle cost is printed."
   ]
  },
  {
   "cell_type": "code",
   "execution_count": 13,
   "metadata": {},
   "outputs": [
    {
     "name": "stdout",
     "output_type": "stream",
     "text": [
      "Running Cycle: 0. Completed. Cost: 1301.07594126\n",
      "Running Cycle: 1. Completed. Cost: 466.327957351\n",
      "Running Cycle: 2. Completed. Cost: 304.171846395\n",
      "Running Cycle: 3. Completed. Cost: 224.416994213\n",
      "Running Cycle: 4. Completed. Cost: 170.569181884\n",
      "Running Cycle: 5. Completed. Cost: 136.40766335\n",
      "Running Cycle: 6. Completed. Cost: 108.073005303\n",
      "Running Cycle: 7. Completed. Cost: 88.9785591693\n",
      "Running Cycle: 8. Completed. Cost: 73.7633309674\n",
      "Running Cycle: 9. Completed. Cost: 62.9640335323\n",
      "Running Cycle: 10. Completed. Cost: 54.9129239352\n",
      "Running Cycle: 11. Completed. Cost: 47.4697285674\n",
      "Running Cycle: 12. Completed. Cost: 41.2858463627\n",
      "Running Cycle: 13. Completed. Cost: 36.9896611029\n",
      "Running Cycle: 14. Completed. Cost: 32.1870928183\n",
      "Running Cycle: 15. Completed. Cost: 29.6672691125\n",
      "Running Cycle: 16. Completed. Cost: 27.3561664638\n",
      "Running Cycle: 17. Completed. Cost: 25.6033214822\n",
      "Running Cycle: 18. Completed. Cost: 23.6964832549\n",
      "Running Cycle: 19. Completed. Cost: 20.4436117737\n"
     ]
    }
   ],
   "source": [
    "initialcondition = tf.global_variables_initializer()\n",
    "session = tf.InteractiveSession()\n",
    "session.run(initialcondition)\n",
    "numbatches = int(numexpl/batchsize)\n",
    "avgcost = [0.0] * cycles\n",
    "for cycle in range(cycles):\n",
    "    cyclecost = 0.0\n",
    "    print(\"Running Cycle:\", cycle, end = \"\") \n",
    "    for i in range(numbatches):\n",
    "        xbatch, ybatch = fashion_mnist.train.next_batch(batchsize)\n",
    "        _, batchcost = session.run([optimizer, cost], feed_dict={x: xbatch, y: ybatch})\n",
    "        cyclecost += batchcost \n",
    "    avgcost[cycle] = cyclecost / numbatches\n",
    "    print(\". Completed. Cost:\", avgcost[cycle])"
   ]
  },
  {
   "cell_type": "code",
   "execution_count": 14,
   "metadata": {},
   "outputs": [
    {
     "data": {
      "text/plain": [
       "[<matplotlib.lines.Line2D at 0x1a4a33c6198>]"
      ]
     },
     "execution_count": 14,
     "metadata": {},
     "output_type": "execute_result"
    },
    {
     "data": {
      "image/png": "[encoded data removed]",
      "text/plain": [
       "<matplotlib.figure.Figure at 0x1a4a314c3c8>"
      ]
     },
     "metadata": {},
     "output_type": "display_data"
    }
   ],
   "source": [
    "pt.axis([0,cycles,0,max(avgcost)*1.1])\n",
    "pt.xlabel('cycles')\n",
    "pt.ylabel('cost')\n",
    "pt.grid()\n",
    "pt.plot(avgcost, color='red', linestyle='solid', marker='o', markerfacecolor='blue', markersize=2)"
   ]
  },
  {
   "cell_type": "markdown",
   "metadata": {},
   "source": [
    "## Performance Evaluations\n",
    "\n",
    "We use Tensorflow methods tf.reduce_mean, tf.cast, and tf.argmax to determine accuracy comparing the prediction with actual class values"
   ]
  },
  {
   "cell_type": "code",
   "execution_count": 15,
   "metadata": {},
   "outputs": [
    {
     "name": "stdout",
     "output_type": "stream",
     "text": [
      "Percent Accuracy: 82.50%\n"
     ]
    }
   ],
   "source": [
    "percentaccuracy = 100 * tf.reduce_mean(\n",
    "                            tf.cast(tf.equal(tf.argmax(predictions, 1), \n",
    "                            tf.argmax(y, 1)), \"float\")).eval(\n",
    "                            {x: fashion_mnist.test.images, y: fashion_mnist.test.labels})\n",
    "\n",
    "print(\"Percent Accuracy: {:.2f}%\".format(percentaccuracy))"
   ]
  }
 ],
 "metadata": {
  "anaconda-cloud": {},
  "kernelspec": {
   "display_name": "Python 3",
   "language": "python",
   "name": "python3"
  },
  "language_info": {
   "codemirror_mode": {
    "name": "ipython",
    "version": 3
   },
   "file_extension": ".py",
   "mimetype": "text/x-python",
   "name": "python",
   "nbconvert_exporter": "python",
   "pygments_lexer": "ipython3",
   "version": "3.6.3"
  }
 },
 "nbformat": 4,
 "nbformat_minor": 1
}
